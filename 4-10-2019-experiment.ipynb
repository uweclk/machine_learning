{
 "cells": [
  {
   "cell_type": "code",
   "execution_count": 1,
   "metadata": {},
   "outputs": [],
   "source": [
    "import csv\n",
    "import numpy as np\n",
    "import matplotlib.pyplot as plt\n",
    "from mpl_toolkits.mplot3d import Axes3D\n",
    "from sklearn import datasets\n",
    "from sklearn.decomposition import PCA\n",
    "\n",
    "with open('wine.data') as csvfile:\n",
    "    readCSV = list(csv.reader(csvfile, delimiter=','))\n",
    "    arr = np.array(readCSV)\n",
    "#     print(x)\n",
    "#     print(y)"
   ]
  },
  {
   "cell_type": "code",
   "execution_count": null,
   "metadata": {},
   "outputs": [],
   "source": [
    "features = [\n",
    "    'Alcohol',\n",
    "    'Malic acid',\n",
    "    'Ash',\n",
    "    'Alcalinity of ash',\n",
    "    'Magnesium',\n",
    "    'Total phenols',\n",
    "    'Flavanoids',\n",
    "    'Nonflavanoid phenols',\n",
    "    'Proanthocyanins',\n",
    "    'Color intensity',\n",
    "    'Hue',\n",
    "    'OD280/OD315 of diluted wines',\n",
    "    'Proline']"
   ]
  },
  {
   "cell_type": "code",
   "execution_count": null,
   "metadata": {},
   "outputs": [],
   "source": [
    "# Visualize data partially\n",
    "import matplotlib.ticker as ticker\n",
    "%matplotlib notebook\n",
    "\n",
    "fig = plt.figure(figsize=(7, 5))\n",
    "\n",
    "attr_num1 = 9\n",
    "attr_num2 = 8\n",
    "\n",
    "x = arr[:, attr_num1].astype(np.float)\n",
    "y = arr[:, attr_num2].astype(np.float)\n",
    "\n",
    "x_min, x_max = x.min() - .5, x.max() + .5\n",
    "y_min, y_max = y.min() - .5, y.max() + .5\n",
    "\n",
    "tick_spacing = 1\n",
    "\n",
    "non_float_labels = np.array(arr[:, 0]).astype(np.int)\n",
    "labels = np.array(arr[:, 0]).astype(np.int) * .33\n",
    "\n",
    "plt.scatter(x, y, c=labels, cmap=plt.cm.Set1, edgecolor='k')\n",
    "plt.title('Comparing 2 Attributes')\n",
    "plt.xlabel(features[attr_num1 - 1])\n",
    "plt.ylabel(features[attr_num2 - 1])\n",
    "plt.show()"
   ]
  },
  {
   "cell_type": "code",
   "execution_count": null,
   "metadata": {},
   "outputs": [],
   "source": [
    "# PCA to visualize data completely\n",
    "\n",
    "from mpl_toolkits.mplot3d import Axes3D\n",
    "from sklearn.decomposition import PCA\n",
    "\n",
    "fig = plt.figure(figsize=(8, 6))\n",
    "ax = Axes3D(fig, elev=-150, azim=110)\n",
    "arr_reduced = PCA(n_components=3).fit_transform(arr[:, 1:])\n",
    "ax.scatter(arr_reduced[:, 0], arr_reduced[:, 1], arr_reduced[:, 2], c=labels,\n",
    "           cmap=plt.cm.Set1, edgecolor='k', s=40)\n",
    "ax.set_title(\"First three PCA directions\")\n",
    "ax.set_xlabel(\"1st eigenvector\")\n",
    "ax.w_xaxis.set_ticklabels([])\n",
    "ax.set_ylabel(\"2nd eigenvector\")\n",
    "ax.w_yaxis.set_ticklabels([])\n",
    "ax.set_zlabel(\"3rd eigenvector\")\n",
    "ax.w_zaxis.set_ticklabels([])\n",
    "\n",
    "plt.show()"
   ]
  },
  {
   "cell_type": "code",
   "execution_count": 3,
   "metadata": {},
   "outputs": [
    {
     "name": "stdout",
     "output_type": "stream",
     "text": [
      "hello\n"
     ]
    }
   ],
   "source": [
    "from sklearn import svm\n",
    "\n",
    "print('hello')\n",
    "# x = arr_reduced\n",
    "# y = non_float_labels\n",
    "\n",
    "# X = x[y != 0, :2]\n",
    "# y = y[y != 0]\n",
    "\n",
    "# print(x)\n",
    "# n_sample = len(arr_reduced)\n",
    "\n",
    "# np.random.seed(0)\n",
    "# order = np.random.permutation(n_sample)\n",
    "# x = x[order]\n",
    "# y = y[order].astype(np.float)\n",
    "\n",
    "# x_train = x[:int(.9 * n_sample)]\n",
    "# y_train = y[:int(.9 * n_sample)]\n",
    "# X_test = x[int(.9 * n_sample):]\n",
    "# y_test = y[int(.9 * n_sample):]\n",
    "\n",
    "# # fit the model\n",
    "# for fig_num, kernel in enumerate(('linear', 'rbf', 'poly')):\n",
    "#     clf = svm.SVC(kernel=kernel, gamma=10)\n",
    "#     clf.fit(x_train, y_train)\n",
    "    \n",
    "#     plt.figure(fig_num)\n",
    "#     plt.clf()\n",
    "#     plt.scatter(x[:, 0], x[:, 1], c=y, zorder=10, cmap=plt.cm.Paired,\n",
    "#                edgecolor='k', s=20)\n",
    "    \n",
    "#     # circle the test data\n",
    "#     plt.scatter(x_test[:, 0], x_test[:, 1], s=80, facecolors='none',\n",
    "#                 zorder=10, edgecolor='k')\n",
    "    \n",
    "#     plt.axis('tight')\n",
    "#     x_min = X[:, 0].min()\n",
    "#     x_max = X[:, 0].max()\n",
    "#     y_min = X[:, 1].min()\n",
    "#     y_max = X[:, 1].max()\n",
    "\n",
    "#     xx, yy = np.mgrid[x_min:x_max:200j, y_min:y_max:200j]\n",
    "#     z = clf.decision_function(np.c_[xx.ravel(), yy.ravel()])\n",
    "    \n",
    "#     # Put the result into a color plot\n",
    "#     z = z.reshape(xx.shape)\n",
    "#     plt.pcolormesh(xx, yy, z > 0, cmap=plt.cm.Paired)\n",
    "#     plt.contour(xx, yy, z, colors=['k', 'k', 'k'],\n",
    "#                 linestyles=['--', '-', '--'], levels=[-.5, 0, .5])\n",
    "        \n",
    "#     plt.title(kernel)\n",
    "    \n",
    "# plt.show()\n",
    "    "
   ]
  }
 ],
 "metadata": {
  "kernelspec": {
   "display_name": "Python 3",
   "language": "python",
   "name": "python3"
  },
  "language_info": {
   "codemirror_mode": {
    "name": "ipython",
    "version": 3
   },
   "file_extension": ".py",
   "mimetype": "text/x-python",
   "name": "python",
   "nbconvert_exporter": "python",
   "pygments_lexer": "ipython3",
   "version": "3.6.8"
  }
 },
 "nbformat": 4,
 "nbformat_minor": 2
}
