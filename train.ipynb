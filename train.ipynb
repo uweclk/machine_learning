{
 "cells": [
  {
   "cell_type": "code",
   "execution_count": 1,
   "metadata": {},
   "outputs": [
    {
     "ename": "SyntaxError",
     "evalue": "invalid syntax (<ipython-input-1-bec8a5d13052>, line 1)",
     "output_type": "error",
     "traceback": [
      "\u001b[1;36m  File \u001b[1;32m\"<ipython-input-1-bec8a5d13052>\"\u001b[1;36m, line \u001b[1;32m1\u001b[0m\n\u001b[1;33m    pip install nltk\u001b[0m\n\u001b[1;37m              ^\u001b[0m\n\u001b[1;31mSyntaxError\u001b[0m\u001b[1;31m:\u001b[0m invalid syntax\n"
     ]
    }
   ],
   "source": [
    "pip install nltk\n",
    "pip install gensim"
   ]
  },
  {
   "cell_type": "code",
   "execution_count": 1,
   "metadata": {},
   "outputs": [
    {
     "name": "stdout",
     "output_type": "stream",
     "text": [
      "showing info https://raw.githubusercontent.com/nltk/nltk_data/gh-pages/index.xml\n"
     ]
    },
    {
     "data": {
      "text/plain": [
       "True"
      ]
     },
     "execution_count": 1,
     "metadata": {},
     "output_type": "execute_result"
    }
   ],
   "source": [
    "import nltk\n",
    "nltk.download()"
   ]
  },
  {
   "cell_type": "code",
   "execution_count": 4,
   "metadata": {},
   "outputs": [],
   "source": [
    "# Python program to generate word vectors using Word2Vec\n",
    "\n",
    "# importing all necessary modules\n",
    "from nltk.tokenize import sent_tokenize, word_tokenize\n",
    "import warnings\n",
    "\n",
    "warnings.filterwarnings(action = 'ignore')\n",
    "\n",
    "import gensim\n",
    "from gensim.models import Word2Vec\n",
    "\n",
    "# #  Reads data file\n",
    "sample = open(\"C:\\\\Users\\\\colin\\\\projects\\\\machine_learning\\\\data\\\\newdata.txt\", encoding=\"utf8\")\n",
    "s = sample.read()\n",
    "\n",
    "# # Replaces escape character with space\n",
    "f = s.replace(\"\\n\", \" \")\n",
    "\n",
    "data = []\n",
    "\n",
    "# # iterate through each sentence in the file\n",
    "for i in sent_tokenize(f):\n",
    "    temp = []\n",
    "\n",
    "    # tokenize the sentence into words\n",
    "    for j in word_tokenize(i):\n",
    "        temp.append(j.lower())\n",
    "\n",
    "    data.append(temp)\n",
    "\n",
    "# # Create CBOW model\n",
    "model1 = gensim.models.Word2Vec(data, min_count = 1, size = 100, window = 5)\n",
    "\n",
    "# # Print results\n",
    "# print(\"Cosine similarity between 'alice' \" + \"and 'wonderland' - CBOW : \" +\n",
    "#       str(model1.similarity('alice', 'wonderland')))\n",
    "\n",
    "# print(\"Cosine similarity between 'alice' \" + \"and 'machines' - CBOW : \" +\n",
    "#       str(model1.similarity('alice', 'machines')))\n",
    "\n",
    "model1.save(\"trained_models/cbow.model\")\n",
    "\n",
    "# # Create Skip Gram model\n",
    "model2 = gensim.models.Word2Vec(data, min_count = 1, size = 100, window = 5, sg = 1)\n",
    "\n",
    "# # Print results\n",
    "# print(\"Cosine similarity between 'alice' \" + \"and 'wonderland' - Skip Gram : \" +\n",
    "#       str(model2.similarity('alice', 'wonderland')))\n",
    "\n",
    "# print(\"Cosine similarity between 'alice' \" + \"and 'machines' - Skip Gram : \" +\n",
    "#       str(model2.similarity('alice', 'machines')))\n",
    "\n",
    "model2.save(\"trained_models/skip_gram.model\")"
   ]
  },
  {
   "cell_type": "code",
   "execution_count": null,
   "metadata": {},
   "outputs": [],
   "source": []
  }
 ],
 "metadata": {
  "kernelspec": {
   "display_name": "Python 3",
   "language": "python",
   "name": "python3"
  },
  "language_info": {
   "codemirror_mode": {
    "name": "ipython",
    "version": 3
   },
   "file_extension": ".py",
   "mimetype": "text/x-python",
   "name": "python",
   "nbconvert_exporter": "python",
   "pygments_lexer": "ipython3",
   "version": "3.7.4"
  }
 },
 "nbformat": 4,
 "nbformat_minor": 2
}
